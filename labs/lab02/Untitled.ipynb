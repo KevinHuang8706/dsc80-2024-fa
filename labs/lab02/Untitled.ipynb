{
 "cells": [
  {
   "cell_type": "code",
   "execution_count": 18,
   "id": "ddf4182d-2483-4e30-8fd3-d519eec6bd54",
   "metadata": {},
   "outputs": [],
   "source": [
    "import numpy as np"
   ]
  },
  {
   "cell_type": "code",
   "execution_count": 8,
   "id": "144d904d-bb13-48fc-9798-412d9e87f6ee",
   "metadata": {},
   "outputs": [],
   "source": [
    "def c(n,k):\n",
    "    product = 1\n",
    "    divisor = 1\n",
    "    for i in range(n,n-k,-1):\n",
    "        product*=i\n",
    "    for j in range(1,k+1):\n",
    "        divisor *= j\n",
    "    return product/divisor"
   ]
  },
  {
   "cell_type": "code",
   "execution_count": 11,
   "id": "099b47fc-e878-42e5-a3db-1c4c2e7b9335",
   "metadata": {},
   "outputs": [
    {
     "data": {
      "text/plain": [
       "123552.0"
      ]
     },
     "execution_count": 11,
     "metadata": {},
     "output_type": "execute_result"
    }
   ],
   "source": [
    "c(13,2)*c(4,2)**2*44"
   ]
  },
  {
   "cell_type": "code",
   "execution_count": 12,
   "id": "700ebceb-2d4b-4ee2-bb6e-5dc9ec442574",
   "metadata": {},
   "outputs": [
    {
     "data": {
      "text/plain": [
       "58656.0"
      ]
     },
     "execution_count": 12,
     "metadata": {},
     "output_type": "execute_result"
    }
   ],
   "source": [
    "c(13,1)*c(4,3)*c(48,2)"
   ]
  },
  {
   "cell_type": "code",
   "execution_count": 13,
   "id": "e4cb2a54-5206-4e08-b8fc-2959d9300ad9",
   "metadata": {},
   "outputs": [
    {
     "data": {
      "text/plain": [
       "5625"
      ]
     },
     "execution_count": 13,
     "metadata": {},
     "output_type": "execute_result"
    }
   ],
   "source": [
    "9*5**4"
   ]
  },
  {
   "cell_type": "code",
   "execution_count": 14,
   "id": "dd1be80e-905e-4783-ac96-b22aaea17783",
   "metadata": {},
   "outputs": [
    {
     "data": {
      "text/plain": [
       "3744"
      ]
     },
     "execution_count": 14,
     "metadata": {},
     "output_type": "execute_result"
    }
   ],
   "source": [
    "13*12*24"
   ]
  },
  {
   "cell_type": "code",
   "execution_count": 15,
   "id": "7a93e6e5-d249-46de-a3f6-a2fc300a755f",
   "metadata": {},
   "outputs": [
    {
     "data": {
      "text/plain": [
       "5148.0"
      ]
     },
     "execution_count": 15,
     "metadata": {},
     "output_type": "execute_result"
    }
   ],
   "source": [
    "4*c(13,5)"
   ]
  },
  {
   "cell_type": "code",
   "execution_count": 16,
   "id": "4d3c6886-63fb-4cd5-be0c-18ebbd758b50",
   "metadata": {},
   "outputs": [
    {
     "data": {
      "text/plain": [
       "624"
      ]
     },
     "execution_count": 16,
     "metadata": {},
     "output_type": "execute_result"
    }
   ],
   "source": [
    "13*48"
   ]
  },
  {
   "cell_type": "code",
   "execution_count": 24,
   "id": "71678167-4e40-4978-9811-56685d2a154c",
   "metadata": {},
   "outputs": [
    {
     "data": {
      "text/plain": [
       "1.466593128"
      ]
     },
     "execution_count": 24,
     "metadata": {},
     "output_type": "execute_result"
    }
   ],
   "source": [
    "np.prod(np.arange(1,22),dtype=object)/(2*np.prod(np.arange(1,10),dtype=object)*2*2*2*6)/10**12"
   ]
  },
  {
   "cell_type": "code",
   "execution_count": null,
   "id": "0bf86a14-0905-4724-9543-5c6af3f7b1bf",
   "metadata": {},
   "outputs": [],
   "source": []
  }
 ],
 "metadata": {
  "kernelspec": {
   "display_name": "dsc80",
   "language": "python",
   "name": "dsc80"
  },
  "language_info": {
   "codemirror_mode": {
    "name": "ipython",
    "version": 3
   },
   "file_extension": ".py",
   "mimetype": "text/x-python",
   "name": "python",
   "nbconvert_exporter": "python",
   "pygments_lexer": "ipython3",
   "version": "3.12.7"
  }
 },
 "nbformat": 4,
 "nbformat_minor": 5
}
